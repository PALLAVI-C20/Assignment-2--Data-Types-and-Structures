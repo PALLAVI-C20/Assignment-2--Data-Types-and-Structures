{
  "nbformat": 4,
  "nbformat_minor": 0,
  "metadata": {
    "colab": {
      "provenance": []
    },
    "kernelspec": {
      "name": "python3",
      "display_name": "Python 3"
    },
    "language_info": {
      "name": "python"
    }
  },
  "cells": [
    {
      "cell_type": "markdown",
      "source": [
        "# **Theorotical Questions**"
      ],
      "metadata": {
        "id": "W4P6Q3LBvlrr"
      }
    },
    {
      "cell_type": "markdown",
      "source": [
        "**1] What are data structures, and why are they important?**\n",
        "\n",
        "Data structures are ways to organize and store data in a computer so that it can be accessed and modified efficiently. Think of them as containers used to group and manage data logically and efficiently.\n",
        "\n",
        "\n",
        "Why Are Data Structures Important?\n",
        "- Efficiency\n",
        "The right data structure helps optimize the performance of programs (faster searching, sorting, and data access).\n",
        "\n",
        "- Problem Solving\n",
        "Many coding problems and algorithms are built around specific data structures.\n",
        "\n",
        "* Memory Management\n",
        "Helps in saving memory by storing data in the most suitable form.\n",
        "\n",
        "* Real-world Application\n",
        "They are used in real-life systems like databases, operating systems, AI, etc.\n",
        "\n"
      ],
      "metadata": {
        "id": "DXH0PH4Lvn1s"
      }
    },
    {
      "cell_type": "markdown",
      "source": [
        "**2] Explain the difference between mutable and immutable data types with examples**\n",
        "\n",
        "* Property of mutable data type can be chnages where for Immutable data type it can nit changed.\n",
        "\n"
      ],
      "metadata": {
        "id": "KS3VTbSvwC9X"
      }
    },
    {
      "cell_type": "code",
      "source": [
        "# Mutable Example:\n",
        "\n",
        "my_list = [1, 2, 3]\n",
        "my_list[0] = 10\n",
        "print(my_list)"
      ],
      "metadata": {
        "colab": {
          "base_uri": "https://localhost:8080/"
        },
        "id": "28wcwvzOwe3u",
        "outputId": "07d6c1c7-8c53-436e-a5b2-01dc7e5b5a90"
      },
      "execution_count": null,
      "outputs": [
        {
          "output_type": "stream",
          "name": "stdout",
          "text": [
            "[10, 2, 3]\n"
          ]
        }
      ]
    },
    {
      "cell_type": "code",
      "source": [
        "# Immutable Example:\n",
        "\n",
        "a = \"hello\"\n",
        "a = \"H\" + a[1:]  # Create a new string\n",
        "print(a)"
      ],
      "metadata": {
        "colab": {
          "base_uri": "https://localhost:8080/"
        },
        "id": "-uoAZuWqwthh",
        "outputId": "fb7778b6-9f40-4232-faf9-1b21925b9224"
      },
      "execution_count": null,
      "outputs": [
        {
          "output_type": "stream",
          "name": "stdout",
          "text": [
            "Hello\n"
          ]
        }
      ]
    },
    {
      "cell_type": "markdown",
      "source": [
        "**3] What are the main differences between lists and tuples in Python?**\n",
        "\n",
        "List -                                           \n",
        "- Can be changed\n",
        "- use of [ ]\n",
        "- We can add or remove elements\n",
        "- Used when data may changes.\n",
        "\n",
        "Tuple -\n",
        "- Can not changed\n",
        "- use of ( )\n",
        "- We can not add or remove elements\n",
        "- Data should stay same."
      ],
      "metadata": {
        "id": "TKYrKlkdxd21"
      }
    },
    {
      "cell_type": "markdown",
      "source": [
        "**4] Describe how dictionaries store data**\n",
        "\n",
        "A dictionary in Python stores data as key-value pairs, like a real dictionary where a word (key) maps to a meaning (value)."
      ],
      "metadata": {
        "id": "4-Zdrl4byPu8"
      }
    },
    {
      "cell_type": "code",
      "source": [
        "student= {\"name\": \"abc\", \"age\":\"25\"}\n",
        "type(student)"
      ],
      "metadata": {
        "colab": {
          "base_uri": "https://localhost:8080/"
        },
        "id": "6JqE0ZYayZHr",
        "outputId": "165bf9e1-a2f2-41f9-b630-6e1ea4fd9648"
      },
      "execution_count": null,
      "outputs": [
        {
          "output_type": "execute_result",
          "data": {
            "text/plain": [
              "dict"
            ]
          },
          "metadata": {},
          "execution_count": 6
        }
      ]
    },
    {
      "cell_type": "markdown",
      "source": [
        "**5] Why might you use a set instead of a list in Python**\n",
        "\n",
        "A set is a collection that:\n",
        "\n",
        "- Does not allow duplicates\n",
        "- Is faster for checking if an item exists (in)\n",
        "- Is un-ordered"
      ],
      "metadata": {
        "id": "JZTtJb0Cyn1h"
      }
    },
    {
      "cell_type": "code",
      "source": [
        "a = [1, 2, 2, 3, 4, 4]  # here it is list having duplicate values\n",
        "a = set(a)\n",
        "print(a) # this set will give all unique values."
      ],
      "metadata": {
        "colab": {
          "base_uri": "https://localhost:8080/"
        },
        "id": "6Ly86IMOy90h",
        "outputId": "e216eace-1c8b-4341-d477-79f021730574"
      },
      "execution_count": null,
      "outputs": [
        {
          "output_type": "stream",
          "name": "stdout",
          "text": [
            "{1, 2, 3, 4}\n"
          ]
        }
      ]
    },
    {
      "cell_type": "markdown",
      "source": [
        "**6] What is a string in Python, and how is it different from a list**\n",
        "\n",
        "A string is a sequence of characters used to store text\n",
        "\n",
        "- String has only Characters where list can have numbers, integers and characters,tec.\n",
        "- String is immutable where list is mutable\n"
      ],
      "metadata": {
        "id": "arPC69d0zPfy"
      }
    },
    {
      "cell_type": "markdown",
      "source": [
        "**7] How do tuples ensure data integrity in Python?**\n",
        "\n",
        "A tuple is an immutable (unchangeable) sequence in Python.\n",
        "Because of this, it helps ensure data integrity, meaning the data stays safe and unchanged.\n"
      ],
      "metadata": {
        "id": "YQvQ_c_Vz2b7"
      }
    },
    {
      "cell_type": "code",
      "source": [
        "m = (10, 20)  # A tuple\n",
        "\n",
        "m[0]"
      ],
      "metadata": {
        "colab": {
          "base_uri": "https://localhost:8080/"
        },
        "id": "WJrYhK0N0BUt",
        "outputId": "06efbeee-29f1-46b1-990b-47ca543acc92"
      },
      "execution_count": null,
      "outputs": [
        {
          "output_type": "execute_result",
          "data": {
            "text/plain": [
              "10"
            ]
          },
          "metadata": {},
          "execution_count": 9
        }
      ]
    },
    {
      "cell_type": "code",
      "source": [
        "m[0]= 50 # It will give error, No one can change the tuple hence the original data stays safe and trusted."
      ],
      "metadata": {
        "colab": {
          "base_uri": "https://localhost:8080/",
          "height": 146
        },
        "collapsed": true,
        "id": "Q4-cK-CZ0Hv0",
        "outputId": "77414ced-ae6b-44eb-a4f2-237f8d53a6e7"
      },
      "execution_count": null,
      "outputs": [
        {
          "output_type": "error",
          "ename": "TypeError",
          "evalue": "'tuple' object does not support item assignment",
          "traceback": [
            "\u001b[0;31m---------------------------------------------------------------------------\u001b[0m",
            "\u001b[0;31mTypeError\u001b[0m                                 Traceback (most recent call last)",
            "\u001b[0;32m/tmp/ipython-input-11-2049602844.py\u001b[0m in \u001b[0;36m<cell line: 0>\u001b[0;34m()\u001b[0m\n\u001b[0;32m----> 1\u001b[0;31m \u001b[0mm\u001b[0m\u001b[0;34m[\u001b[0m\u001b[0;36m0\u001b[0m\u001b[0;34m]\u001b[0m\u001b[0;34m=\u001b[0m \u001b[0;36m50\u001b[0m \u001b[0;31m# It will give error, No one can change the tuple hence the original data stays safe and trusted.\u001b[0m\u001b[0;34m\u001b[0m\u001b[0;34m\u001b[0m\u001b[0m\n\u001b[0m",
            "\u001b[0;31mTypeError\u001b[0m: 'tuple' object does not support item assignment"
          ]
        }
      ]
    },
    {
      "cell_type": "markdown",
      "source": [
        "**8] What is a hash table, and how does it relate to dictionaries in Python**\n",
        "\n",
        "A hash table is a data structure that stores data in key-value pairs and allows fast access using keys.\n",
        "- It works like a smart address book:\n",
        "- You give it a key (like a name),\n",
        "- It uses a hash function to find the memory location (address),\n",
        "- And gives back the value quickly"
      ],
      "metadata": {
        "id": "VAVKO1mj0eao"
      }
    },
    {
      "cell_type": "code",
      "source": [
        "p = {\n",
        "    \"name\": \"pallavi\",\n",
        "    \"age\": 25\n",
        "}"
      ],
      "metadata": {
        "id": "UE_74cAK0x9h"
      },
      "execution_count": null,
      "outputs": []
    },
    {
      "cell_type": "code",
      "source": [
        "p"
      ],
      "metadata": {
        "colab": {
          "base_uri": "https://localhost:8080/"
        },
        "id": "sZtgn6fc062c",
        "outputId": "cef4912a-4836-4b60-e140-a013ea8846d3"
      },
      "execution_count": null,
      "outputs": [
        {
          "output_type": "execute_result",
          "data": {
            "text/plain": [
              "{'name': 'pallavi', 'age': 25}"
            ]
          },
          "metadata": {},
          "execution_count": 16
        }
      ]
    },
    {
      "cell_type": "markdown",
      "source": [
        "**9] Can lists contain different data types in Python**\n",
        "\n",
        "In Python, a list can hold multiple types of data all together.\n",
        "\n",
        "Here\n",
        "- int= (10)\n",
        "- str =(\"hello\")\n",
        "- float =(3.14)\n",
        "- bool= (True)\n",
        "- list =([1, 2])\n",
        "- dict= ({'a': 1})"
      ],
      "metadata": {
        "id": "OO8rXCtI1AFv"
      }
    },
    {
      "cell_type": "code",
      "source": [
        "list_items = [10, \"hello\", 3.14, True, [1, 2], {\"a\": 1}]\n",
        "print(list_items)\n"
      ],
      "metadata": {
        "colab": {
          "base_uri": "https://localhost:8080/"
        },
        "id": "LKzUx2m61Mqo",
        "outputId": "9a9ea844-3cb2-4622-d308-e3b4eca58343"
      },
      "execution_count": null,
      "outputs": [
        {
          "output_type": "stream",
          "name": "stdout",
          "text": [
            "[10, 'hello', 3.14, True, [1, 2], {'a': 1}]\n"
          ]
        }
      ]
    },
    {
      "cell_type": "markdown",
      "source": [
        "**10] Explain why strings are immutable in Python**\n",
        "\n",
        "Strings are immutable in Python, which means you cannot change a string once it is created.\n",
        "\n",
        "- Data Safety\t- Prevents accidental changes to text, especially when shared across code\n",
        "- Hashing - Strings can be used as dictionary keys (needs them to be unchanged)\n",
        "- Performance - Immutable objects are faster to work with and easier to optimize internally\n",
        "- Consistency - Makes behavior predictable and easier to debug"
      ],
      "metadata": {
        "id": "A6LS7DXW1nZc"
      }
    },
    {
      "cell_type": "code",
      "source": [
        "k = \"hello\"\n",
        "text[k] = \"H\"\n",
        "\n",
        "#To change the string, we need to create new string."
      ],
      "metadata": {
        "colab": {
          "base_uri": "https://localhost:8080/",
          "height": 164
        },
        "id": "yQxnxquk2IyL",
        "outputId": "ba9513aa-7a05-47b7-b2f7-69488411bbf8"
      },
      "execution_count": null,
      "outputs": [
        {
          "output_type": "error",
          "ename": "NameError",
          "evalue": "name 'text' is not defined",
          "traceback": [
            "\u001b[0;31m---------------------------------------------------------------------------\u001b[0m",
            "\u001b[0;31mNameError\u001b[0m                                 Traceback (most recent call last)",
            "\u001b[0;32m/tmp/ipython-input-21-2477277841.py\u001b[0m in \u001b[0;36m<cell line: 0>\u001b[0;34m()\u001b[0m\n\u001b[1;32m      1\u001b[0m \u001b[0mk\u001b[0m \u001b[0;34m=\u001b[0m \u001b[0;34m\"hello\"\u001b[0m\u001b[0;34m\u001b[0m\u001b[0;34m\u001b[0m\u001b[0m\n\u001b[0;32m----> 2\u001b[0;31m \u001b[0mtext\u001b[0m\u001b[0;34m[\u001b[0m\u001b[0mk\u001b[0m\u001b[0;34m]\u001b[0m \u001b[0;34m=\u001b[0m \u001b[0;34m\"H\"\u001b[0m\u001b[0;34m\u001b[0m\u001b[0;34m\u001b[0m\u001b[0m\n\u001b[0m",
            "\u001b[0;31mNameError\u001b[0m: name 'text' is not defined"
          ]
        }
      ]
    },
    {
      "cell_type": "markdown",
      "source": [
        " **11] What advantages do dictionaries offer over lists for certain tasks**\n",
        "\n",
        " Dictionaries and lists are both useful, but dictionaries offer special benefits when you need to work with key-value pairs or named data.\n",
        "\n",
        "\n",
        " Use a dictionary when:\n",
        "- You want to store named data\n",
        "- You need fast access using keys\n",
        "- You care about clarity and structure"
      ],
      "metadata": {
        "id": "4nlRn8re2Wry"
      }
    },
    {
      "cell_type": "code",
      "source": [
        "#Dictionary\n",
        "person = {\"name\": \"Pallavi\", \"age\": 25, \"city\": \"kolhapur\"}\n",
        "print(person[\"age\"])"
      ],
      "metadata": {
        "colab": {
          "base_uri": "https://localhost:8080/"
        },
        "id": "OdAjNBLH3f-F",
        "outputId": "95a879bd-4508-42c4-be5d-e4090a2c533c"
      },
      "execution_count": null,
      "outputs": [
        {
          "output_type": "stream",
          "name": "stdout",
          "text": [
            "25\n"
          ]
        }
      ]
    },
    {
      "cell_type": "code",
      "source": [
        "#List\n",
        "person = [\"Pallavi\", 25, \"Kolhapur\"]\n",
        "print(person[1])\n",
        "\n",
        "#we get output, but it is not clear as that of dictionary"
      ],
      "metadata": {
        "colab": {
          "base_uri": "https://localhost:8080/"
        },
        "id": "EL0zGt3D3nvu",
        "outputId": "250b754e-c2be-4784-a33f-c4d6834f166e"
      },
      "execution_count": null,
      "outputs": [
        {
          "output_type": "stream",
          "name": "stdout",
          "text": [
            "25\n"
          ]
        }
      ]
    },
    {
      "cell_type": "markdown",
      "source": [
        "**12] Describe a scenario where using a tuple would be preferable over a list**\n",
        "\n",
        "A tuple is better than a list when you want to store fixed, unchangeable data."
      ],
      "metadata": {
        "id": "DristA3w4BmK"
      }
    },
    {
      "cell_type": "code",
      "source": [
        "adhar_card_info = (516887465869)\n",
        "print(adhar_card_info)\n",
        "\n",
        "#If we use list here, anyone can easily change the original elements. Here we can not change anything, we we want to, we have to make new tuple."
      ],
      "metadata": {
        "colab": {
          "base_uri": "https://localhost:8080/"
        },
        "id": "kqgduSeS4Tir",
        "outputId": "9d172522-45b0-48dd-bb01-eb922a8e5bb1"
      },
      "execution_count": null,
      "outputs": [
        {
          "output_type": "stream",
          "name": "stdout",
          "text": [
            "516887465869\n"
          ]
        }
      ]
    },
    {
      "cell_type": "markdown",
      "source": [
        "**13] How do sets handle duplicate values in Python**\n",
        "\n",
        "Sets automatically remove duplicates.\n",
        "If you add the same value more than once, the set will only keep one copy."
      ],
      "metadata": {
        "id": "eItuUzrd415e"
      }
    },
    {
      "cell_type": "code",
      "source": [
        "my_set = {1, 2, 2, 3, 3, 3}\n",
        "print(my_set)"
      ],
      "metadata": {
        "colab": {
          "base_uri": "https://localhost:8080/"
        },
        "id": "qUt3-ePl4-xG",
        "outputId": "3ee60c22-c049-481b-afb4-84d41301a1dc"
      },
      "execution_count": null,
      "outputs": [
        {
          "output_type": "stream",
          "name": "stdout",
          "text": [
            "{1, 2, 3}\n"
          ]
        }
      ]
    },
    {
      "cell_type": "markdown",
      "source": [
        "**14]How does the “in” keyword work differently for lists and dictionaries**\n",
        "\n",
        "The in keyword is used to check if something exists — but it works differently depending on the data type."
      ],
      "metadata": {
        "id": "Kjqe-T1m5BzI"
      }
    },
    {
      "cell_type": "code",
      "source": [
        "# In a List:\n",
        "# Checks if a value is in the list.\n",
        "my_list = [1, 2, 3, 4, 5]\n",
        "print(3 in my_list)"
      ],
      "metadata": {
        "colab": {
          "base_uri": "https://localhost:8080/"
        },
        "id": "e4D_KiBb5Mjl",
        "outputId": "cf98e0fe-6104-46fb-8ad3-7e078e648a28"
      },
      "execution_count": null,
      "outputs": [
        {
          "output_type": "stream",
          "name": "stdout",
          "text": [
            "True\n"
          ]
        }
      ]
    },
    {
      "cell_type": "code",
      "source": [
        "# In a Dictionary:\n",
        "# Checks if a key is in the dictionary — not the value.\n",
        "my_dict = {\"a\": 1, \"b\": 2, \"c\": 3}\n",
        "print(\"a\" in my_dict)"
      ],
      "metadata": {
        "colab": {
          "base_uri": "https://localhost:8080/"
        },
        "id": "st996duG5UsS",
        "outputId": "4f56c075-97ea-4b20-edd2-deb9f63c6fce"
      },
      "execution_count": null,
      "outputs": [
        {
          "output_type": "stream",
          "name": "stdout",
          "text": [
            "True\n"
          ]
        }
      ]
    },
    {
      "cell_type": "code",
      "source": [
        "print(1 in my_dict)"
      ],
      "metadata": {
        "colab": {
          "base_uri": "https://localhost:8080/"
        },
        "id": "onyLupDv5gdP",
        "outputId": "e244eb2f-36e2-4c67-899c-1a24c0e5b923"
      },
      "execution_count": null,
      "outputs": [
        {
          "output_type": "stream",
          "name": "stdout",
          "text": [
            "False\n"
          ]
        }
      ]
    },
    {
      "cell_type": "markdown",
      "source": [
        "**15] Can you modify the elements of a tuple? Explain why or why not**\n",
        "\n",
        "No, you cannot modify the elements of a tuple.\n",
        "Tuples are immutable, which means once created, their content cannot be changed.\n",
        "\n",
        "- Data Safety\t- Prevents accidental changes to text, especially when shared across code\n",
        "- Hashing - Strings can be used as dictionary keys (needs them to be unchanged)\n",
        "- Performance - Immutable objects are faster to work with and easier to optimize internally"
      ],
      "metadata": {
        "id": "68iErZEl5u_C"
      }
    },
    {
      "cell_type": "code",
      "source": [
        "t = (1, 2, 3)\n",
        "t[0] = 10"
      ],
      "metadata": {
        "colab": {
          "base_uri": "https://localhost:8080/",
          "height": 164
        },
        "id": "uL-7uQ1U6A4M",
        "outputId": "80fceb8d-9e65-4588-b7c3-a12b18c6e01e"
      },
      "execution_count": null,
      "outputs": [
        {
          "output_type": "error",
          "ename": "TypeError",
          "evalue": "'tuple' object does not support item assignment",
          "traceback": [
            "\u001b[0;31m---------------------------------------------------------------------------\u001b[0m",
            "\u001b[0;31mTypeError\u001b[0m                                 Traceback (most recent call last)",
            "\u001b[0;32m/tmp/ipython-input-36-4224094789.py\u001b[0m in \u001b[0;36m<cell line: 0>\u001b[0;34m()\u001b[0m\n\u001b[1;32m      1\u001b[0m \u001b[0mt\u001b[0m \u001b[0;34m=\u001b[0m \u001b[0;34m(\u001b[0m\u001b[0;36m1\u001b[0m\u001b[0;34m,\u001b[0m \u001b[0;36m2\u001b[0m\u001b[0;34m,\u001b[0m \u001b[0;36m3\u001b[0m\u001b[0;34m)\u001b[0m\u001b[0;34m\u001b[0m\u001b[0;34m\u001b[0m\u001b[0m\n\u001b[0;32m----> 2\u001b[0;31m \u001b[0mt\u001b[0m\u001b[0;34m[\u001b[0m\u001b[0;36m0\u001b[0m\u001b[0;34m]\u001b[0m \u001b[0;34m=\u001b[0m \u001b[0;36m10\u001b[0m\u001b[0;34m\u001b[0m\u001b[0;34m\u001b[0m\u001b[0m\n\u001b[0m",
            "\u001b[0;31mTypeError\u001b[0m: 'tuple' object does not support item assignment"
          ]
        }
      ]
    },
    {
      "cell_type": "markdown",
      "source": [
        "**16] What is a nested dictionary, and give an example of its use case**\n",
        "\n",
        "A nested dictionary is a dictionary inside another dictionary.\n",
        "\n",
        "It lets you store more complex, structured data"
      ],
      "metadata": {
        "id": "Ju0hMHgP6E8d"
      }
    },
    {
      "cell_type": "code",
      "source": [
        "students = {\n",
        "    \"student1\": {\"name\": \"Pallavi\", \"age\": 20, \"grade\": \"A\"},\n",
        "    \"student2\": {\"name\": \"ruhi\", \"age\": 22, \"grade\": \"B\"},\n",
        "}"
      ],
      "metadata": {
        "id": "XerRgq406p6o"
      },
      "execution_count": null,
      "outputs": []
    },
    {
      "cell_type": "code",
      "source": [
        "print(students[\"student1\"][\"name\"])"
      ],
      "metadata": {
        "colab": {
          "base_uri": "https://localhost:8080/"
        },
        "id": "iOvCwKaX6q0L",
        "outputId": "8ade3861-7060-4f32-d585-5eb8a99918ea"
      },
      "execution_count": null,
      "outputs": [
        {
          "output_type": "stream",
          "name": "stdout",
          "text": [
            "Pallavi\n"
          ]
        }
      ]
    },
    {
      "cell_type": "markdown",
      "source": [
        " **17] Describe the time complexity of accessing elements in a dictionary**\n",
        "\n",
        "  Accessing items in a dictionary is very fast\n",
        "In most cases, it takes the same short time, no matter how big the dictionary is."
      ],
      "metadata": {
        "id": "h1OIbiqi60HX"
      }
    },
    {
      "cell_type": "code",
      "source": [
        "my_dict = {\"a\": 1, \"b\": 2, \"c\": 3}\n",
        "print(my_dict[\"a\"])\n",
        "\n",
        "#Even if the dictionary has 1000 items, looking up \"a\" is still very quick.\n",
        "\n"
      ],
      "metadata": {
        "colab": {
          "base_uri": "https://localhost:8080/"
        },
        "id": "RBoHvRlO7I1N",
        "outputId": "a124863d-ec02-4d16-d102-dc67fd13d876"
      },
      "execution_count": null,
      "outputs": [
        {
          "output_type": "stream",
          "name": "stdout",
          "text": [
            "1\n"
          ]
        }
      ]
    },
    {
      "cell_type": "markdown",
      "source": [
        " **18] In what situations are lists preferred over dictionaries**\n",
        "\n",
        " You should use a list instead of a dictionary when:\n",
        " - Order Matters\n",
        " - You Just Need Values (No Keys)\n",
        " - You Want to Loop Through Items\n",
        " - Duplicates Are Allowed\n",
        " -"
      ],
      "metadata": {
        "id": "sYNBEPJi7gtR"
      }
    },
    {
      "cell_type": "markdown",
      "source": [
        "**19] Why are dictionaries considered unordered, and how does that affect data retrieval**\n",
        "\n",
        "- The items didn't keep the order in which you added them in older version of Python\n",
        "- When you printed or looped through the dictionary, the order could change.\n",
        "- Now, they remember order, but order is not guaranteed to matter in how they work.\n",
        "- Retrieving by key is always fast, no matter the order.\n",
        "That’s the main advantage of using dictionaries."
      ],
      "metadata": {
        "id": "Zti6x1hG8FN-"
      }
    },
    {
      "cell_type": "markdown",
      "source": [
        "**20] Explain the difference between a list and a dictionary in terms of data retrieval.**\n",
        "\n"
      ],
      "metadata": {
        "id": "oVVvoEI-8oB6"
      }
    },
    {
      "cell_type": "code",
      "source": [
        "# List: Uses Index (Number Position)\n",
        "# You access items using position numbers (starting at 0).\n",
        "# The order of items matters.\n",
        "fruits = [\"apple\", \"banana\", \"mango\"]\n",
        "print(fruits[1])"
      ],
      "metadata": {
        "colab": {
          "base_uri": "https://localhost:8080/"
        },
        "id": "neOUTsKy8xup",
        "outputId": "4e0a95c2-1ad3-4596-b3fa-982d200b0c18"
      },
      "execution_count": null,
      "outputs": [
        {
          "output_type": "stream",
          "name": "stdout",
          "text": [
            "banana\n"
          ]
        }
      ]
    },
    {
      "cell_type": "code",
      "source": [
        "#Dictionary: Uses Key (Name)\n",
        "# You access items using a key (like a label or name).\n",
        "# The order doesn’t matter for retrieval — the key matters\n",
        "\n",
        "person = {\"name\": \"Pallavi\", \"age\": 25}\n",
        "print(person[\"age\"])\n",
        "\n",
        "#You can access the value by its name, which is easier to understand."
      ],
      "metadata": {
        "colab": {
          "base_uri": "https://localhost:8080/"
        },
        "id": "YefQUoZZ86yo",
        "outputId": "7f647762-27d9-4073-eb00-112764828a2d"
      },
      "execution_count": null,
      "outputs": [
        {
          "output_type": "stream",
          "name": "stdout",
          "text": [
            "25\n"
          ]
        }
      ]
    },
    {
      "cell_type": "markdown",
      "source": [
        "#**Practical Questions**"
      ],
      "metadata": {
        "id": "r-ZBkiZJ33MX"
      }
    },
    {
      "cell_type": "markdown",
      "source": [
        "**1] Write a code to create a string with your name and print it**"
      ],
      "metadata": {
        "id": "F9_E--VY3_Gl"
      }
    },
    {
      "cell_type": "code",
      "source": [
        "name = \"Pallavi\"\n",
        "print(name)"
      ],
      "metadata": {
        "colab": {
          "base_uri": "https://localhost:8080/"
        },
        "id": "YJOzlSvQ4Ju5",
        "outputId": "8f2cfa08-eccd-42c9-dd52-721c2d606ea7"
      },
      "execution_count": 1,
      "outputs": [
        {
          "output_type": "stream",
          "name": "stdout",
          "text": [
            "Pallavi\n"
          ]
        }
      ]
    },
    {
      "cell_type": "markdown",
      "source": [
        "**2] Write a code to find the length of the string \"Hello World\"**"
      ],
      "metadata": {
        "id": "WDrAQOOB4RMM"
      }
    },
    {
      "cell_type": "code",
      "source": [
        "a = \"Hello World\"\n",
        "len(a)"
      ],
      "metadata": {
        "colab": {
          "base_uri": "https://localhost:8080/"
        },
        "id": "gESFoGKQ4QkX",
        "outputId": "8ba634ef-ac85-42c1-af45-e7d07b39da5a"
      },
      "execution_count": 3,
      "outputs": [
        {
          "output_type": "execute_result",
          "data": {
            "text/plain": [
              "11"
            ]
          },
          "metadata": {},
          "execution_count": 3
        }
      ]
    },
    {
      "cell_type": "markdown",
      "source": [
        "**3]Write a code to slice the first 3 characters from the string \"Python Programming\"**"
      ],
      "metadata": {
        "id": "5Hw03KdS4jOT"
      }
    },
    {
      "cell_type": "code",
      "source": [
        "a = \"Python Programming\"\n",
        "a[:3]"
      ],
      "metadata": {
        "colab": {
          "base_uri": "https://localhost:8080/",
          "height": 36
        },
        "id": "pDw0iQkD4n7b",
        "outputId": "2b7b34ec-0461-4ca9-9974-9fb587a9f2de"
      },
      "execution_count": 8,
      "outputs": [
        {
          "output_type": "execute_result",
          "data": {
            "text/plain": [
              "'Pyt'"
            ],
            "application/vnd.google.colaboratory.intrinsic+json": {
              "type": "string"
            }
          },
          "metadata": {},
          "execution_count": 8
        }
      ]
    },
    {
      "cell_type": "markdown",
      "source": [
        "**4] Write a code to convert the string \"hello\" to uppercase**\n",
        ""
      ],
      "metadata": {
        "id": "bBZowm5D5odJ"
      }
    },
    {
      "cell_type": "code",
      "source": [
        "u = \"hello\"\n",
        "u.upper()"
      ],
      "metadata": {
        "colab": {
          "base_uri": "https://localhost:8080/",
          "height": 36
        },
        "id": "SnRh25De5vXq",
        "outputId": "a46551c7-9c71-420a-8a21-948ecff5cfd2"
      },
      "execution_count": 16,
      "outputs": [
        {
          "output_type": "execute_result",
          "data": {
            "text/plain": [
              "'HELLO'"
            ],
            "application/vnd.google.colaboratory.intrinsic+json": {
              "type": "string"
            }
          },
          "metadata": {},
          "execution_count": 16
        }
      ]
    },
    {
      "cell_type": "markdown",
      "source": [
        " **5] Write a code to replace the word \"apple\" with \"orange\" in the string \"I like apple\"**"
      ],
      "metadata": {
        "id": "P8oRsgUZ6etP"
      }
    },
    {
      "cell_type": "code",
      "source": [
        "fruits = \"I like apple\"\n",
        "fruits.replace(\"apple\", \"orange\")"
      ],
      "metadata": {
        "colab": {
          "base_uri": "https://localhost:8080/",
          "height": 36
        },
        "id": "bJ8Xj-Dg6jJK",
        "outputId": "952630df-4d11-4edf-cd5f-2ec414211870"
      },
      "execution_count": 19,
      "outputs": [
        {
          "output_type": "execute_result",
          "data": {
            "text/plain": [
              "'I like orange'"
            ],
            "application/vnd.google.colaboratory.intrinsic+json": {
              "type": "string"
            }
          },
          "metadata": {},
          "execution_count": 19
        }
      ]
    },
    {
      "cell_type": "markdown",
      "source": [
        "**6] Write a code to create a list with numbers 1 to 5 and print it**"
      ],
      "metadata": {
        "id": "-f4eHkbi7OKc"
      }
    },
    {
      "cell_type": "code",
      "source": [
        "a = list(range(1,6))\n",
        "print(a)"
      ],
      "metadata": {
        "colab": {
          "base_uri": "https://localhost:8080/"
        },
        "id": "5-5aEfb67TBV",
        "outputId": "49c99f1d-2c27-4d88-ad56-6cc8a213baae"
      },
      "execution_count": 5,
      "outputs": [
        {
          "output_type": "stream",
          "name": "stdout",
          "text": [
            "[1, 2, 3, 4, 5]\n"
          ]
        }
      ]
    },
    {
      "cell_type": "markdown",
      "source": [
        "**7]Write a code to append the number 10 to the list [1, 2, 3, 4]**"
      ],
      "metadata": {
        "id": "dSEWGosIPDe6"
      }
    },
    {
      "cell_type": "code",
      "source": [
        "list_2 = [1, 2, 3, 4]\n",
        "list_2.append(10)\n",
        "\n",
        "print(list_2)"
      ],
      "metadata": {
        "colab": {
          "base_uri": "https://localhost:8080/"
        },
        "id": "ZRUjFaNoPaF2",
        "outputId": "42333b13-cd63-43a9-ff1e-b1387af90174"
      },
      "execution_count": 6,
      "outputs": [
        {
          "output_type": "stream",
          "name": "stdout",
          "text": [
            "[1, 2, 3, 4, 10]\n"
          ]
        }
      ]
    },
    {
      "cell_type": "markdown",
      "source": [
        " **8]Write a code to remove the number 3 from the list [1, 2, 3, 4, 5]**"
      ],
      "metadata": {
        "id": "QVHUGNEcPj5H"
      }
    },
    {
      "cell_type": "code",
      "source": [
        "list_3 = [1, 2, 3, 4, 5]\n",
        "list_3.pop(2)\n",
        "print(list_3)"
      ],
      "metadata": {
        "colab": {
          "base_uri": "https://localhost:8080/"
        },
        "id": "f6i5et5BPpAq",
        "outputId": "5363c8cc-8617-4c9f-dce3-d2cfb5869edf"
      },
      "execution_count": 12,
      "outputs": [
        {
          "output_type": "stream",
          "name": "stdout",
          "text": [
            "[1, 2, 4, 5]\n"
          ]
        }
      ]
    },
    {
      "cell_type": "markdown",
      "source": [
        "**9] Write a code to access the second element in the list ['a', 'b', 'c', 'd']**"
      ],
      "metadata": {
        "id": "8dyZMCSiQKld"
      }
    },
    {
      "cell_type": "code",
      "source": [
        "list_4 = ['a', 'b', 'c', 'd']\n",
        "list_4[1]"
      ],
      "metadata": {
        "colab": {
          "base_uri": "https://localhost:8080/",
          "height": 36
        },
        "id": "R96-5SajQNUA",
        "outputId": "b6e2e8a3-df69-4867-a2c5-53a8809ea402"
      },
      "execution_count": 14,
      "outputs": [
        {
          "output_type": "execute_result",
          "data": {
            "text/plain": [
              "'b'"
            ],
            "application/vnd.google.colaboratory.intrinsic+json": {
              "type": "string"
            }
          },
          "metadata": {},
          "execution_count": 14
        }
      ]
    },
    {
      "cell_type": "markdown",
      "source": [
        "**10] Write a code to reverse the list [10, 20, 30, 40, 50].**"
      ],
      "metadata": {
        "id": "F2e5f9XxQhw4"
      }
    },
    {
      "cell_type": "code",
      "source": [
        "list_5 = [10, 20, 30, 40, 50]\n",
        "list_5 [::-1]\n"
      ],
      "metadata": {
        "colab": {
          "base_uri": "https://localhost:8080/"
        },
        "id": "ZGIseoZyQj7J",
        "outputId": "9d96622e-ee0f-4492-9019-b7d0ea1112d6"
      },
      "execution_count": 20,
      "outputs": [
        {
          "output_type": "execute_result",
          "data": {
            "text/plain": [
              "[50, 40, 30, 20, 10]"
            ]
          },
          "metadata": {},
          "execution_count": 20
        }
      ]
    },
    {
      "cell_type": "markdown",
      "source": [
        " **11] Write a code to create a tuple with the elements 100, 200, 300 and print it.**"
      ],
      "metadata": {
        "id": "MbIyqwI5REoj"
      }
    },
    {
      "cell_type": "code",
      "source": [
        "a = (100, 200, 300)\n",
        "print(a)"
      ],
      "metadata": {
        "colab": {
          "base_uri": "https://localhost:8080/"
        },
        "id": "2x7dy1wrRK4I",
        "outputId": "a1e8e38b-95fa-4b32-d6d6-3019df7c9545"
      },
      "execution_count": 22,
      "outputs": [
        {
          "output_type": "stream",
          "name": "stdout",
          "text": [
            "(100, 200, 300)\n"
          ]
        }
      ]
    },
    {
      "cell_type": "code",
      "source": [
        "type(a)"
      ],
      "metadata": {
        "colab": {
          "base_uri": "https://localhost:8080/"
        },
        "id": "P2kUShI2RT5a",
        "outputId": "e2420f74-310e-4e9d-eebb-51dfa81f6158"
      },
      "execution_count": 23,
      "outputs": [
        {
          "output_type": "execute_result",
          "data": {
            "text/plain": [
              "tuple"
            ]
          },
          "metadata": {},
          "execution_count": 23
        }
      ]
    },
    {
      "cell_type": "markdown",
      "source": [
        "**12] Write a code to access the second-to-last element of the tuple ('red', 'green', 'blue', 'yellow')**"
      ],
      "metadata": {
        "id": "EvQMHB02RWHu"
      }
    },
    {
      "cell_type": "code",
      "source": [
        "b = ('red', 'green', 'blue', 'yellow')\n",
        "b[2]"
      ],
      "metadata": {
        "colab": {
          "base_uri": "https://localhost:8080/",
          "height": 36
        },
        "id": "KyNVX4WvRbo-",
        "outputId": "982fe7c5-2df2-4e68-800a-27311b411ef9"
      },
      "execution_count": 25,
      "outputs": [
        {
          "output_type": "execute_result",
          "data": {
            "text/plain": [
              "'blue'"
            ],
            "application/vnd.google.colaboratory.intrinsic+json": {
              "type": "string"
            }
          },
          "metadata": {},
          "execution_count": 25
        }
      ]
    },
    {
      "cell_type": "markdown",
      "source": [
        "**13] Write a code to find the minimum number in the tuple (10, 20, 5, 15).**"
      ],
      "metadata": {
        "id": "yqaGM8EcRn-L"
      }
    },
    {
      "cell_type": "code",
      "source": [
        "c = (10, 20, 5, 15)\n",
        "minimum_number = min(c)\n",
        "print(minimum_number)"
      ],
      "metadata": {
        "colab": {
          "base_uri": "https://localhost:8080/"
        },
        "id": "tkUidHcGRuQa",
        "outputId": "e6d31967-f4b4-406a-db2a-d960b302c298"
      },
      "execution_count": 28,
      "outputs": [
        {
          "output_type": "stream",
          "name": "stdout",
          "text": [
            "5\n"
          ]
        }
      ]
    },
    {
      "cell_type": "markdown",
      "source": [
        "**14] Write a code to find the index of the element \"cat\" in the tuple ('dog', 'cat', 'rabbit').**"
      ],
      "metadata": {
        "id": "G_HBEoSASI8U"
      }
    },
    {
      "cell_type": "code",
      "source": [
        "d = ('dog', 'cat', 'rabbit')\n",
        "d.index('cat')"
      ],
      "metadata": {
        "colab": {
          "base_uri": "https://localhost:8080/"
        },
        "id": "-lkOqtgKSQtM",
        "outputId": "1810ddd6-bf0f-410b-aab0-58eb0120d95d"
      },
      "execution_count": 29,
      "outputs": [
        {
          "output_type": "execute_result",
          "data": {
            "text/plain": [
              "1"
            ]
          },
          "metadata": {},
          "execution_count": 29
        }
      ]
    },
    {
      "cell_type": "markdown",
      "source": [
        "**15] Write a code to create a tuple containing three different fruits and check if \"kiwi\" is in it.**"
      ],
      "metadata": {
        "id": "8uxz0V3aSiw1"
      }
    },
    {
      "cell_type": "code",
      "source": [
        "e = (\"mango\" , \"banana\" , \"orange\")\n",
        "\n",
        "if \"kiwi\" in e:\n",
        "  print(\"kiwi is in the list\")\n",
        "else:\n",
        "  print(\"kiwi is not in the list\")"
      ],
      "metadata": {
        "colab": {
          "base_uri": "https://localhost:8080/"
        },
        "id": "O9IP3XY8SnRQ",
        "outputId": "fb0af36a-29a2-41bd-9cdd-957f4cec15f3"
      },
      "execution_count": 31,
      "outputs": [
        {
          "output_type": "stream",
          "name": "stdout",
          "text": [
            "kiwi is not in the list\n"
          ]
        }
      ]
    },
    {
      "cell_type": "markdown",
      "source": [
        " **16] Write a code to create a set with the elements 'a', 'b', 'c' and print it**."
      ],
      "metadata": {
        "id": "vIf9RNXjTXmW"
      }
    },
    {
      "cell_type": "code",
      "source": [
        "set_1 = {'a', 'b', 'c' }\n",
        "print(set_1)"
      ],
      "metadata": {
        "colab": {
          "base_uri": "https://localhost:8080/"
        },
        "id": "Jw-FmzbSTU4V",
        "outputId": "fa4fdb1b-67c5-4552-81c1-ebcd44ec05a7"
      },
      "execution_count": 33,
      "outputs": [
        {
          "output_type": "stream",
          "name": "stdout",
          "text": [
            "{'c', 'b', 'a'}\n"
          ]
        }
      ]
    },
    {
      "cell_type": "code",
      "source": [
        "type(set_1)"
      ],
      "metadata": {
        "colab": {
          "base_uri": "https://localhost:8080/"
        },
        "id": "0rNCse2ZTkh6",
        "outputId": "90878b3c-ce3f-46f6-ff3e-8e87798197c6"
      },
      "execution_count": 34,
      "outputs": [
        {
          "output_type": "execute_result",
          "data": {
            "text/plain": [
              "set"
            ]
          },
          "metadata": {},
          "execution_count": 34
        }
      ]
    },
    {
      "cell_type": "markdown",
      "source": [
        "**17] Write a code to clear all elements from the set {1, 2, 3, 4, 5}.**"
      ],
      "metadata": {
        "id": "QxHmIHy-Tm1v"
      }
    },
    {
      "cell_type": "code",
      "source": [
        "set_2 = {1, 2, 3, 4, 5}\n",
        "set_2.clear()\n",
        "print(set_2)"
      ],
      "metadata": {
        "colab": {
          "base_uri": "https://localhost:8080/"
        },
        "id": "sM03OUPmTrgi",
        "outputId": "53da239d-ce5a-4d81-aae0-c0465fb35066"
      },
      "execution_count": 36,
      "outputs": [
        {
          "output_type": "stream",
          "name": "stdout",
          "text": [
            "set()\n"
          ]
        }
      ]
    },
    {
      "cell_type": "markdown",
      "source": [
        "**18] Write a code to remove the element 4 from the set {1, 2, 3, 4}**"
      ],
      "metadata": {
        "id": "-Ovixp8-T4P2"
      }
    },
    {
      "cell_type": "code",
      "source": [
        "set_3 = {1, 2, 3, 4}\n",
        "set_3.remove(4)\n",
        "print(set_3)"
      ],
      "metadata": {
        "colab": {
          "base_uri": "https://localhost:8080/"
        },
        "id": "y3ezSqtBT8Oi",
        "outputId": "1c0332e9-58e0-48f9-bc6a-0fb2ad6bceb9"
      },
      "execution_count": 37,
      "outputs": [
        {
          "output_type": "stream",
          "name": "stdout",
          "text": [
            "{1, 2, 3}\n"
          ]
        }
      ]
    },
    {
      "cell_type": "markdown",
      "source": [
        "**19] Write a code to find the union of two sets {1, 2, 3} and {3, 4, 5}**."
      ],
      "metadata": {
        "id": "c9EfqUrqUHMZ"
      }
    },
    {
      "cell_type": "code",
      "source": [
        "set_4 = {1, 2, 3}\n",
        "set_5 = {3, 4, 5}\n",
        "set_final = set_4.union(set_5)\n",
        "print(set_final)"
      ],
      "metadata": {
        "colab": {
          "base_uri": "https://localhost:8080/"
        },
        "id": "BCSH66ZTUNiG",
        "outputId": "2182ed61-6e49-47f9-bb12-b90cf856cc31"
      },
      "execution_count": 39,
      "outputs": [
        {
          "output_type": "stream",
          "name": "stdout",
          "text": [
            "{1, 2, 3, 4, 5}\n"
          ]
        }
      ]
    },
    {
      "cell_type": "markdown",
      "source": [
        "**20] write a code to find the intersection of two sets {1, 2, 3} and {2, 3, 4}.**"
      ],
      "metadata": {
        "id": "l_gMaj7VVWOI"
      }
    },
    {
      "cell_type": "code",
      "source": [
        "set_6 = {1, 2, 3}\n",
        "set_7 = {2, 3, 4}\n",
        "set_final2 = set_6.intersection(set_7)\n",
        "print(set_final2)"
      ],
      "metadata": {
        "colab": {
          "base_uri": "https://localhost:8080/"
        },
        "id": "Iq35JwXGVbut",
        "outputId": "a68c1d34-eb6e-4ffe-80c7-3159da15537d"
      },
      "execution_count": 41,
      "outputs": [
        {
          "output_type": "stream",
          "name": "stdout",
          "text": [
            "{2, 3}\n"
          ]
        }
      ]
    },
    {
      "cell_type": "markdown",
      "source": [
        "**21] Write a code to create a dictionary with the keys \"name\", \"age\", and \"city\", and print it.**"
      ],
      "metadata": {
        "id": "v--SrKTTVyma"
      }
    },
    {
      "cell_type": "code",
      "source": [
        "info = {\"name\" : \"pallavi\" , \"age\" : 25 , \"city\" : \"kolhapur\"}\n",
        "print(info)"
      ],
      "metadata": {
        "colab": {
          "base_uri": "https://localhost:8080/"
        },
        "id": "_WZERtT9V2eB",
        "outputId": "fd7a3ecc-28d8-4324-949e-b2d36226fea9"
      },
      "execution_count": 42,
      "outputs": [
        {
          "output_type": "stream",
          "name": "stdout",
          "text": [
            "{'name': 'pallavi', 'age': 25, 'city': 'kolhapur'}\n"
          ]
        }
      ]
    },
    {
      "cell_type": "markdown",
      "source": [
        "**22] Write a code to add a new key-value pair \"country\": \"USA\" to the dictionary {'name': 'John', 'age': 25}**"
      ],
      "metadata": {
        "id": "WRA11V5nV-ps"
      }
    },
    {
      "cell_type": "code",
      "source": [
        "dictionary_1 = {'name': 'John', 'age': 25}\n",
        "dictionary_1[\"country\"] = \"USA\"\n",
        "print(dictionary_1)"
      ],
      "metadata": {
        "colab": {
          "base_uri": "https://localhost:8080/"
        },
        "id": "ZKoxaQSuWD_0",
        "outputId": "6251ac14-c0cd-4617-fb00-bb4d43363b1e"
      },
      "execution_count": 44,
      "outputs": [
        {
          "output_type": "stream",
          "name": "stdout",
          "text": [
            "{'name': 'John', 'age': 25, 'country': 'USA'}\n"
          ]
        }
      ]
    },
    {
      "cell_type": "markdown",
      "source": [
        "**23] Write a code to access the value associated with the key \"name\" in the dictionary {'name': 'Alice', 'age': 30}.**"
      ],
      "metadata": {
        "id": "h3U18SPUWN20"
      }
    },
    {
      "cell_type": "code",
      "source": [
        "dictionary_2 = {'name': 'Alice', 'age': 30}\n",
        "dictionary_2['name']"
      ],
      "metadata": {
        "colab": {
          "base_uri": "https://localhost:8080/",
          "height": 36
        },
        "id": "uE6_2ipCWSLx",
        "outputId": "90bed105-1c05-414c-fd58-32ad223936cb"
      },
      "execution_count": 49,
      "outputs": [
        {
          "output_type": "execute_result",
          "data": {
            "text/plain": [
              "'Alice'"
            ],
            "application/vnd.google.colaboratory.intrinsic+json": {
              "type": "string"
            }
          },
          "metadata": {},
          "execution_count": 49
        }
      ]
    },
    {
      "cell_type": "markdown",
      "source": [
        "**24] Write a code to remove the key \"age\" from the dictionary {'name': 'Bob', 'age': 22, 'city': 'New York'}**"
      ],
      "metadata": {
        "id": "D79wcklOWauC"
      }
    },
    {
      "cell_type": "code",
      "source": [
        "dict_3 = {'name': 'Bob', 'age': 22, 'city': 'New York'}\n",
        "dict_3.pop('age')\n",
        "print(dict_3)"
      ],
      "metadata": {
        "colab": {
          "base_uri": "https://localhost:8080/"
        },
        "id": "v_3pjCFmWXNL",
        "outputId": "968e1285-c523-4f27-d524-7b642f8ffa1a"
      },
      "execution_count": 52,
      "outputs": [
        {
          "output_type": "stream",
          "name": "stdout",
          "text": [
            "{'name': 'Bob', 'city': 'New York'}\n"
          ]
        }
      ]
    },
    {
      "cell_type": "markdown",
      "source": [
        "**25] Write a code to check if the key \"city\" exists in the dictionary {'name': 'Alice', 'city': 'Paris'}.**"
      ],
      "metadata": {
        "id": "xNW6SIcLXW8M"
      }
    },
    {
      "cell_type": "code",
      "source": [
        "dict_4 = {'name': 'Alice', 'city': 'Paris'}\n",
        "print(\"city\" in dict_4)"
      ],
      "metadata": {
        "colab": {
          "base_uri": "https://localhost:8080/"
        },
        "id": "Wt3bGXo6Xa93",
        "outputId": "4e30325d-77cb-4c20-cf67-9ac550a67784"
      },
      "execution_count": 54,
      "outputs": [
        {
          "output_type": "stream",
          "name": "stdout",
          "text": [
            "True\n"
          ]
        }
      ]
    },
    {
      "cell_type": "markdown",
      "source": [
        "**26] Write a code to create a list, a tuple, and a dictionary, and print them all.**"
      ],
      "metadata": {
        "id": "c6oBUxkVXzXr"
      }
    },
    {
      "cell_type": "code",
      "source": [
        "list_ex = [1, 2, 3]\n",
        "tuple_ex = (4, 5, 6)\n",
        "dict_ex = {'a': 7, 'b': 8}\n",
        "\n",
        "print(list_ex)\n",
        "print(tuple_ex)\n",
        "print(dict_ex)"
      ],
      "metadata": {
        "colab": {
          "base_uri": "https://localhost:8080/"
        },
        "id": "KuB69ODWX3QU",
        "outputId": "6b81e5bd-c5d9-4f24-b8ba-8349ecd5ccf1"
      },
      "execution_count": 55,
      "outputs": [
        {
          "output_type": "stream",
          "name": "stdout",
          "text": [
            "[1, 2, 3]\n",
            "(4, 5, 6)\n",
            "{'a': 7, 'b': 8}\n"
          ]
        }
      ]
    },
    {
      "cell_type": "markdown",
      "source": [
        "**27] Write a code to create a list of 5 random numbers between 1 and 100, sort it in ascending order, and print the result.(replaced)**"
      ],
      "metadata": {
        "id": "vnJHXbAdYMPT"
      }
    },
    {
      "cell_type": "code",
      "source": [
        "import random\n",
        "\n",
        "numbers = random.sample(range(1, 101), 5)\n",
        "numbers.sort()\n",
        "\n",
        "print(numbers)"
      ],
      "metadata": {
        "colab": {
          "base_uri": "https://localhost:8080/"
        },
        "id": "UXLFRg5WYWUk",
        "outputId": "f74d7489-76bf-42d6-ac00-1dda28042644"
      },
      "execution_count": 57,
      "outputs": [
        {
          "output_type": "stream",
          "name": "stdout",
          "text": [
            "[13, 21, 55, 70, 73]\n"
          ]
        }
      ]
    },
    {
      "cell_type": "markdown",
      "source": [
        "**28] Write a code to create a list with strings and print the element at the third index.**"
      ],
      "metadata": {
        "id": "9vNWjl7vYteK"
      }
    },
    {
      "cell_type": "code",
      "source": [
        "names = [\"pallavi\", \"ruhi\" , \"vrushali\", \"arati\", \"raj\"]\n",
        "print(names[3])"
      ],
      "metadata": {
        "colab": {
          "base_uri": "https://localhost:8080/"
        },
        "id": "0IasRUm7YzqI",
        "outputId": "58331429-6870-472a-bfca-af67279991eb"
      },
      "execution_count": 59,
      "outputs": [
        {
          "output_type": "stream",
          "name": "stdout",
          "text": [
            "arati\n"
          ]
        }
      ]
    },
    {
      "cell_type": "markdown",
      "source": [
        "**29] Write a code to combine two dictionaries into one and print the result.**"
      ],
      "metadata": {
        "id": "xLBlgjwjZIs4"
      }
    },
    {
      "cell_type": "code",
      "source": [
        "student1= {\"name\": \"pallavi\", \"age\":\"25\"}\n",
        "student2= {\"city\": \"kolhapur\" , \"pin code\": \"416004\"}\n",
        "student = {**student1, **student2}\n",
        "print(student)"
      ],
      "metadata": {
        "colab": {
          "base_uri": "https://localhost:8080/"
        },
        "id": "LXiYDtjVZOfb",
        "outputId": "b2541598-8e88-4a0d-f66d-5f631c073852"
      },
      "execution_count": 61,
      "outputs": [
        {
          "output_type": "stream",
          "name": "stdout",
          "text": [
            "{'name': 'pallavi', 'age': '25', 'city': 'kolhapur', 'pin code': '416004'}\n"
          ]
        }
      ]
    },
    {
      "cell_type": "markdown",
      "source": [
        "**30] Write a code to convert a list of strings into a set.**"
      ],
      "metadata": {
        "id": "0powjYgAZtyx"
      }
    },
    {
      "cell_type": "code",
      "source": [
        "names = [\"pallavi\", \"ruhi\" , \"vrushali\", \"arati\", \"raj\"]\n",
        "set_names= set(names)\n",
        "print(set_names)"
      ],
      "metadata": {
        "colab": {
          "base_uri": "https://localhost:8080/"
        },
        "id": "M1z_iZNbZyue",
        "outputId": "362beece-8914-4a48-a472-27e182fa8619"
      },
      "execution_count": 68,
      "outputs": [
        {
          "output_type": "stream",
          "name": "stdout",
          "text": [
            "{'ruhi', 'pallavi', 'vrushali', 'arati', 'raj'}\n"
          ]
        }
      ]
    }
  ]
}